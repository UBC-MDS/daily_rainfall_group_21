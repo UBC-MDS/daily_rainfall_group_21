{
 "cells": [
  {
   "cell_type": "code",
   "execution_count": 1,
   "id": "140c37f0-07d1-401f-88e9-fd50ac4df6b8",
   "metadata": {},
   "outputs": [],
   "source": [
    "import re\n",
    "import os\n",
    "import glob\n",
    "import zipfile\n",
    "import requests\n",
    "from urllib.request import urlretrieve\n",
    "import json\n",
    "import pandas as pd\n",
    "import platform"
   ]
  },
  {
   "cell_type": "markdown",
   "id": "19499186-1e87-485d-b282-9feb35a6fade",
   "metadata": {},
   "source": [
    "## Downloading the data "
   ]
  },
  {
   "cell_type": "code",
   "execution_count": 2,
   "id": "a5872b1f-4765-49c3-8013-c5bf022652a0",
   "metadata": {},
   "outputs": [],
   "source": [
    "# Adapted from lecture notes\n",
    "# Necessary metadata\n",
    "article_id = 14096681  # unique identifier of the article on figshare\n",
    "url = f\"https://api.figshare.com/v2/articles/{article_id}\"\n",
    "headers = {\"Content-Type\": \"application/json\"}\n",
    "output_directory = \"data/\""
   ]
  },
  {
   "cell_type": "code",
   "execution_count": 3,
   "id": "54a63260-43e0-4056-a3d3-c619787a26cf",
   "metadata": {},
   "outputs": [
    {
     "data": {
      "text/plain": [
       "[{'id': 26579150,\n",
       "  'name': 'daily_rainfall_2014.png',\n",
       "  'size': 58863,\n",
       "  'is_link_only': False,\n",
       "  'download_url': 'https://ndownloader.figshare.com/files/26579150',\n",
       "  'supplied_md5': 'fd32a2ffde300a31f8d63b1825d47e5e',\n",
       "  'computed_md5': 'fd32a2ffde300a31f8d63b1825d47e5e'},\n",
       " {'id': 26579171,\n",
       "  'name': 'environment.yml',\n",
       "  'size': 192,\n",
       "  'is_link_only': False,\n",
       "  'download_url': 'https://ndownloader.figshare.com/files/26579171',\n",
       "  'supplied_md5': '060b2020017eed93a1ee7dd8c65b2f34',\n",
       "  'computed_md5': '060b2020017eed93a1ee7dd8c65b2f34'},\n",
       " {'id': 26586554,\n",
       "  'name': 'README.md',\n",
       "  'size': 5422,\n",
       "  'is_link_only': False,\n",
       "  'download_url': 'https://ndownloader.figshare.com/files/26586554',\n",
       "  'supplied_md5': '61858c6cc0e6a6d6663a7e4c75bbd88c',\n",
       "  'computed_md5': '61858c6cc0e6a6d6663a7e4c75bbd88c'},\n",
       " {'id': 26766812,\n",
       "  'name': 'data.zip',\n",
       "  'size': 814041183,\n",
       "  'is_link_only': False,\n",
       "  'download_url': 'https://ndownloader.figshare.com/files/26766812',\n",
       "  'supplied_md5': 'b517383f76e77bd03755a63a8ff83ee9',\n",
       "  'computed_md5': 'b517383f76e77bd03755a63a8ff83ee9'},\n",
       " {'id': 26766815,\n",
       "  'name': 'get_data.py',\n",
       "  'size': 4113,\n",
       "  'is_link_only': False,\n",
       "  'download_url': 'https://ndownloader.figshare.com/files/26766815',\n",
       "  'supplied_md5': '7829028495fd9dec9680ea013474afa6',\n",
       "  'computed_md5': '7829028495fd9dec9680ea013474afa6'}]"
      ]
     },
     "execution_count": 3,
     "metadata": {},
     "output_type": "execute_result"
    }
   ],
   "source": [
    "response = requests.request(\"GET\", url, headers=headers)\n",
    "data = json.loads(response.text)  # contains all the data\n",
    "files = data[\"files\"]             # the data about the files\n",
    "files"
   ]
  },
  {
   "cell_type": "code",
   "execution_count": 4,
   "id": "2cdb26a9-6946-4afc-b141-c17fdb0b9759",
   "metadata": {},
   "outputs": [
    {
     "name": "stdout",
     "output_type": "stream",
     "text": [
      "CPU times: user 2.77 s, sys: 8.23 s, total: 11 s\n",
      "Wall time: 1min 13s\n"
     ]
    }
   ],
   "source": [
    "%%time\n",
    "files_to_dl = [\"data.zip\"] \n",
    "for file in files:\n",
    "    if file[\"name\"] in files_to_dl:\n",
    "        os.makedirs(output_directory, exist_ok=True)\n",
    "        urlretrieve(file[\"download_url\"], output_directory + file[\"name\"])"
   ]
  },
  {
   "cell_type": "code",
   "execution_count": 5,
   "id": "40386cd9-d8c6-4d4c-a6e4-58d6aa55893a",
   "metadata": {},
   "outputs": [
    {
     "name": "stdout",
     "output_type": "stream",
     "text": [
      "CPU times: user 18 s, sys: 8.01 s, total: 26 s\n",
      "Wall time: 55.2 s\n"
     ]
    }
   ],
   "source": [
    "%%time\n",
    "with zipfile.ZipFile(os.path.join(output_directory, \"data.zip\"), 'r') as f:\n",
    "    f.extractall(output_directory)"
   ]
  },
  {
   "cell_type": "markdown",
   "id": "68bb27d4-3cbd-444e-8b81-3cf5f2cd414e",
   "metadata": {},
   "source": [
    "## Combining data CSVs"
   ]
  },
  {
   "cell_type": "code",
   "execution_count": 3,
   "id": "e98a9279-1fbc-446e-b5aa-ba691abd2c1e",
   "metadata": {},
   "outputs": [],
   "source": [
    "files = glob.glob('data/*.csv')\n",
    "files.remove('data\\observed_daily_rainfall_SYD.csv') # Use '/' for mac, '\\' for windows"
   ]
  },
  {
   "cell_type": "code",
   "execution_count": 4,
   "id": "259b11f5-2547-41ab-9326-d381ac3fa02a",
   "metadata": {},
   "outputs": [],
   "source": [
    "# in case you already ran the chunks and want to retest -- DELETE FOR SUBMISSION\n",
    "\n",
    "files.remove('data\\combined_data.csv')  # Use '/' for mac, '\\' for windows"
   ]
  },
  {
   "cell_type": "code",
   "execution_count": 5,
   "id": "09cf5b53-6280-42c6-875b-4e9433e7ff1b",
   "metadata": {},
   "outputs": [
    {
     "data": {
      "text/plain": [
       "['data\\\\ACCESS-CM2_daily_rainfall_NSW.csv',\n",
       " 'data\\\\ACCESS-ESM1-5_daily_rainfall_NSW.csv',\n",
       " 'data\\\\AWI-ESM-1-1-LR_daily_rainfall_NSW.csv',\n",
       " 'data\\\\BCC-CSM2-MR_daily_rainfall_NSW.csv',\n",
       " 'data\\\\BCC-ESM1_daily_rainfall_NSW.csv',\n",
       " 'data\\\\CanESM5_daily_rainfall_NSW.csv',\n",
       " 'data\\\\CMCC-CM2-HR4_daily_rainfall_NSW.csv',\n",
       " 'data\\\\CMCC-CM2-SR5_daily_rainfall_NSW.csv',\n",
       " 'data\\\\CMCC-ESM2_daily_rainfall_NSW.csv',\n",
       " 'data\\\\EC-Earth3-Veg-LR_daily_rainfall_NSW.csv',\n",
       " 'data\\\\FGOALS-f3-L_daily_rainfall_NSW.csv',\n",
       " 'data\\\\FGOALS-g3_daily_rainfall_NSW.csv',\n",
       " 'data\\\\GFDL-CM4_daily_rainfall_NSW.csv',\n",
       " 'data\\\\GFDL-ESM4_daily_rainfall_NSW.csv',\n",
       " 'data\\\\INM-CM4-8_daily_rainfall_NSW.csv',\n",
       " 'data\\\\INM-CM5-0_daily_rainfall_NSW.csv',\n",
       " 'data\\\\KIOST-ESM_daily_rainfall_NSW.csv',\n",
       " 'data\\\\MIROC6_daily_rainfall_NSW.csv',\n",
       " 'data\\\\MPI-ESM-1-2-HAM_daily_rainfall_NSW.csv',\n",
       " 'data\\\\MPI-ESM1-2-HR_daily_rainfall_NSW.csv',\n",
       " 'data\\\\MPI-ESM1-2-LR_daily_rainfall_NSW.csv',\n",
       " 'data\\\\MRI-ESM2-0_daily_rainfall_NSW.csv',\n",
       " 'data\\\\NESM3_daily_rainfall_NSW.csv',\n",
       " 'data\\\\NorESM2-LM_daily_rainfall_NSW.csv',\n",
       " 'data\\\\NorESM2-MM_daily_rainfall_NSW.csv',\n",
       " 'data\\\\SAM0-UNICON_daily_rainfall_NSW.csv',\n",
       " 'data\\\\TaiESM1_daily_rainfall_NSW.csv']"
      ]
     },
     "execution_count": 5,
     "metadata": {},
     "output_type": "execute_result"
    }
   ],
   "source": [
    "files"
   ]
  },
  {
   "cell_type": "code",
   "execution_count": 6,
   "id": "6ddfc2b8-43de-4d44-8c73-ecdb52f77a58",
   "metadata": {},
   "outputs": [],
   "source": [
    "def combine_csv(regex_string, files):\n",
    "    \"\"\"\n",
    "    Combines csv with given files and assigns name according to regex expression.  \n",
    "    Parameters\n",
    "    ----------\n",
    "    regex_string : string\n",
    "                   regex expression to extract model name  \n",
    "    files   : list\n",
    "            list of strings to the path of the file\n",
    "                \n",
    "    Returns\n",
    "    -------\n",
    "    df : pandas dataframe \n",
    "    \"\"\"\n",
    "    df = pd.concat((pd.read_csv(file, index_col=0)\n",
    "                    .assign(model=re.findall(regex_string, file)[0])\n",
    "                    for file in files))\n",
    "    return df"
   ]
  },
  {
   "cell_type": "code",
   "execution_count": 7,
   "id": "83ceb4c3-63fe-439f-b246-7ceb9303f0ec",
   "metadata": {},
   "outputs": [
    {
     "name": "stdout",
     "output_type": "stream",
     "text": [
      "Wall time: 9min 15s\n"
     ]
    }
   ],
   "source": [
    "%%time\n",
    "\n",
    "# Set regex for different operating system\n",
    "\n",
    "string_mac = r\"(?<=data/)(.*)(?=_daily)\" \n",
    "string_windows = r\"(?<=data\\\\)(.*)(?=_daily)\"\n",
    "\n",
    "if 'mac' in platform.platform():\n",
    "    df = combine_csv(string_mac, files)\n",
    "else:\n",
    "    df = combine_csv(string_windows, files)\n",
    "    \n",
    "df.to_csv(\"data/combined_data.csv\")"
   ]
  },
  {
   "cell_type": "code",
   "execution_count": 18,
   "id": "83f8c943-8cdd-4e2e-add5-63a5b4a3d964",
   "metadata": {},
   "outputs": [
    {
     "data": {
      "text/html": [
       "<div>\n",
       "<style scoped>\n",
       "    .dataframe tbody tr th:only-of-type {\n",
       "        vertical-align: middle;\n",
       "    }\n",
       "\n",
       "    .dataframe tbody tr th {\n",
       "        vertical-align: top;\n",
       "    }\n",
       "\n",
       "    .dataframe thead th {\n",
       "        text-align: right;\n",
       "    }\n",
       "</style>\n",
       "<table border=\"1\" class=\"dataframe\">\n",
       "  <thead>\n",
       "    <tr style=\"text-align: right;\">\n",
       "      <th></th>\n",
       "      <th>lat_min</th>\n",
       "      <th>lat_max</th>\n",
       "      <th>lon_min</th>\n",
       "      <th>lon_max</th>\n",
       "      <th>rain (mm/day)</th>\n",
       "      <th>model</th>\n",
       "    </tr>\n",
       "    <tr>\n",
       "      <th>time</th>\n",
       "      <th></th>\n",
       "      <th></th>\n",
       "      <th></th>\n",
       "      <th></th>\n",
       "      <th></th>\n",
       "      <th></th>\n",
       "    </tr>\n",
       "  </thead>\n",
       "  <tbody>\n",
       "    <tr>\n",
       "      <th>1889-01-01 12:00:00</th>\n",
       "      <td>-35.439867</td>\n",
       "      <td>-33.574619</td>\n",
       "      <td>141.5625</td>\n",
       "      <td>143.4375</td>\n",
       "      <td>4.244226e-13</td>\n",
       "      <td>MPI-ESM-1-2-HAM</td>\n",
       "    </tr>\n",
       "    <tr>\n",
       "      <th>1889-01-02 12:00:00</th>\n",
       "      <td>-35.439867</td>\n",
       "      <td>-33.574619</td>\n",
       "      <td>141.5625</td>\n",
       "      <td>143.4375</td>\n",
       "      <td>4.217326e-13</td>\n",
       "      <td>MPI-ESM-1-2-HAM</td>\n",
       "    </tr>\n",
       "    <tr>\n",
       "      <th>1889-01-03 12:00:00</th>\n",
       "      <td>-35.439867</td>\n",
       "      <td>-33.574619</td>\n",
       "      <td>141.5625</td>\n",
       "      <td>143.4375</td>\n",
       "      <td>4.498125e-13</td>\n",
       "      <td>MPI-ESM-1-2-HAM</td>\n",
       "    </tr>\n",
       "    <tr>\n",
       "      <th>1889-01-04 12:00:00</th>\n",
       "      <td>-35.439867</td>\n",
       "      <td>-33.574619</td>\n",
       "      <td>141.5625</td>\n",
       "      <td>143.4375</td>\n",
       "      <td>4.251282e-13</td>\n",
       "      <td>MPI-ESM-1-2-HAM</td>\n",
       "    </tr>\n",
       "    <tr>\n",
       "      <th>1889-01-05 12:00:00</th>\n",
       "      <td>-35.439867</td>\n",
       "      <td>-33.574619</td>\n",
       "      <td>141.5625</td>\n",
       "      <td>143.4375</td>\n",
       "      <td>4.270161e-13</td>\n",
       "      <td>MPI-ESM-1-2-HAM</td>\n",
       "    </tr>\n",
       "  </tbody>\n",
       "</table>\n",
       "</div>"
      ],
      "text/plain": [
       "                       lat_min    lat_max   lon_min   lon_max  rain (mm/day)  \\\n",
       "time                                                                           \n",
       "1889-01-01 12:00:00 -35.439867 -33.574619  141.5625  143.4375   4.244226e-13   \n",
       "1889-01-02 12:00:00 -35.439867 -33.574619  141.5625  143.4375   4.217326e-13   \n",
       "1889-01-03 12:00:00 -35.439867 -33.574619  141.5625  143.4375   4.498125e-13   \n",
       "1889-01-04 12:00:00 -35.439867 -33.574619  141.5625  143.4375   4.251282e-13   \n",
       "1889-01-05 12:00:00 -35.439867 -33.574619  141.5625  143.4375   4.270161e-13   \n",
       "\n",
       "                               model  \n",
       "time                                  \n",
       "1889-01-01 12:00:00  MPI-ESM-1-2-HAM  \n",
       "1889-01-02 12:00:00  MPI-ESM-1-2-HAM  \n",
       "1889-01-03 12:00:00  MPI-ESM-1-2-HAM  \n",
       "1889-01-04 12:00:00  MPI-ESM-1-2-HAM  \n",
       "1889-01-05 12:00:00  MPI-ESM-1-2-HAM  "
      ]
     },
     "execution_count": 18,
     "metadata": {},
     "output_type": "execute_result"
    }
   ],
   "source": [
    "df.head()"
   ]
  },
  {
   "cell_type": "markdown",
   "id": "a0d5f707-6b20-4f4a-a9f9-23af654bf7d8",
   "metadata": {},
   "source": [
    "| Team Member | Operating System | RAM | Processor | Is SSD | Time taken |\n",
    "|:-----------:|:----------------:|:---:|:---------:|:------:|:----------:|\n",
    "| Qingqing   |   Windows               |   16GB  |     Intel(R) Core(TM) i7-6700HQ CPU @ 2.60GHz 2.59 GHz      |   T     |     10min 39s       |\n",
    "| Lianna   |       MacOS           |  16GB   |    Apple M1 - 8 Core       |    T    |     6min 5s       |\n",
    "| Linhan    |   Windows              |   16GB  |    AMD Ryzen7 4800h       |    T    |     8min23s   |\n",
    "|  Doris    |      MacOS       |   16GB  |   1.4 GHz Quad-Core Intel Core i5    |    T    |   8min 46s   |"
   ]
  },
  {
   "cell_type": "markdown",
   "id": "4d4c1052-9ed0-4599-bf98-05388e903d23",
   "metadata": {},
   "source": [
    "## Loading the combined CSV to memory and performing a simple EDA"
   ]
  },
  {
   "cell_type": "code",
   "execution_count": null,
   "id": "e3eb99ad-1d0b-4a19-9895-a3d0696b2752",
   "metadata": {},
   "outputs": [],
   "source": []
  },
  {
   "cell_type": "markdown",
   "id": "48a49315-197e-4f08-99ba-77ce9f556e67",
   "metadata": {},
   "source": [
    "## Perform a simple EDA in R"
   ]
  },
  {
   "cell_type": "code",
   "execution_count": 14,
   "id": "bccb28f1-738d-4c3c-869c-197222a813b4",
   "metadata": {},
   "outputs": [],
   "source": [
    "import pyarrow.dataset as ds\n",
    "import pyarrow as pa\n",
    "import pandas as pd\n",
    "import pyarrow \n",
    "from pyarrow import csv\n",
    "import rpy2_arrow.pyarrow_rarrow as pyra"
   ]
  },
  {
   "cell_type": "code",
   "execution_count": 18,
   "id": "20317ab2-0d19-44d9-aacf-9e709fed815d",
   "metadata": {},
   "outputs": [
    {
     "name": "stdout",
     "output_type": "stream",
     "text": [
      "Wall time: 1min 27s\n"
     ]
    }
   ],
   "source": [
    "%%time\n",
    "# Adapted from lecture notes\n",
    "dataset = ds.dataset(\"data/combined_data.csv\", format=\"csv\")\n",
    "table = dataset.to_table()\n",
    "r_table = pyra.converter.py2rpy(table)"
   ]
  },
  {
   "cell_type": "code",
   "execution_count": 24,
   "id": "d793cc42-27f1-4ffe-aa87-9a214f4e32e7",
   "metadata": {},
   "outputs": [
    {
     "name": "stderr",
     "output_type": "stream",
     "text": [
      "D:\\Miniconda3\\lib\\site-packages\\rpy2\\robjects\\packages.py:366: UserWarning: The symbol 'quartz' is not in this R namespace/package.\n",
      "  warnings.warn(\n"
     ]
    }
   ],
   "source": [
    "# Load the cell magic\n",
    "%load_ext rpy2.ipython"
   ]
  },
  {
   "cell_type": "code",
   "execution_count": 31,
   "id": "9c15fe19-6ad4-46f5-b732-a26d16d574d4",
   "metadata": {},
   "outputs": [
    {
     "name": "stdout",
     "output_type": "stream",
     "text": [
      "              Length   Class        Mode       \n",
      "time          62467843 ChunkedArray environment\n",
      "lat_min       62467843 ChunkedArray environment\n",
      "lat_max       62467843 ChunkedArray environment\n",
      "lon_min       62467843 ChunkedArray environment\n",
      "lon_max       62467843 ChunkedArray environment\n",
      "rain (mm/day) 62467843 ChunkedArray environment\n",
      "model         62467843 ChunkedArray environment\n",
      "Time difference of 0.006987095 secs\n",
      "Wall time: 79 ms\n"
     ]
    }
   ],
   "source": [
    "%%time\n",
    "%%R -i r_table\n",
    "start_time <- Sys.time()\n",
    "suppressMessages(library(dplyr))\n",
    "result <- r_table %>% summary()\n",
    "end_time <- Sys.time()\n",
    "print(result)\n",
    "print(end_time - start_time)"
   ]
  },
  {
   "cell_type": "markdown",
   "id": "3f9effae-76df-477c-a018-01aae728f904",
   "metadata": {},
   "source": [
    "#### NOT SURE ABOUT OTHER METHODS PLZ DOUBLE CHECK!!\n",
    "- We chose arrow exchange to convert pandas data frame to R data frame. \n",
    "    - Using Parquet file and Feather file, we need to write data frame into files and read in again. Since we already have CSV file in our case, we thought it would be better if we can skip this step and save storage. \n",
    "    - Using pandas exchange may use more time since most of the time is spent on serialization and deserialization process, though what we do inside R may take less time.\n",
    "    - With arrow table, we have zero-copy reads and minimum serialization, which makes time spent on the process less.\n",
    "    \n"
   ]
  }
 ],
 "metadata": {
  "kernelspec": {
   "display_name": "Python 3 (ipykernel)",
   "language": "python",
   "name": "python3"
  },
  "language_info": {
   "codemirror_mode": {
    "name": "ipython",
    "version": 3
   },
   "file_extension": ".py",
   "mimetype": "text/x-python",
   "name": "python",
   "nbconvert_exporter": "python",
   "pygments_lexer": "ipython3",
   "version": "3.9.9"
  }
 },
 "nbformat": 4,
 "nbformat_minor": 5
}
