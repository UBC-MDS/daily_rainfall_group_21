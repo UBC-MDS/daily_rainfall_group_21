{
 "cells": [
  {
   "cell_type": "code",
   "execution_count": 1,
   "id": "140c37f0-07d1-401f-88e9-fd50ac4df6b8",
   "metadata": {},
   "outputs": [],
   "source": [
    "import re\n",
    "import os\n",
    "import glob\n",
    "import zipfile\n",
    "import requests\n",
    "from urllib.request import urlretrieve\n",
    "import json\n",
    "import pandas as pd\n",
    "import platform\n",
    "import matplotlib.pyplot as plt\n",
    "import altair as alt"
   ]
  },
  {
   "cell_type": "markdown",
   "id": "19499186-1e87-485d-b282-9feb35a6fade",
   "metadata": {},
   "source": [
    "## Downloading the data "
   ]
  },
  {
   "cell_type": "code",
   "execution_count": 13,
   "id": "a5872b1f-4765-49c3-8013-c5bf022652a0",
   "metadata": {},
   "outputs": [],
   "source": [
    "# Adapted from lecture notes\n",
    "# Necessary metadata\n",
    "article_id = 14096681  # unique identifier of the article on figshare\n",
    "url = f\"https://api.figshare.com/v2/articles/{article_id}\"\n",
    "headers = {\"Content-Type\": \"application/json\"}\n",
    "output_directory = \"data/\""
   ]
  },
  {
   "cell_type": "code",
   "execution_count": 14,
   "id": "54a63260-43e0-4056-a3d3-c619787a26cf",
   "metadata": {},
   "outputs": [
    {
     "data": {
      "text/plain": [
       "[{'id': 26579150,\n",
       "  'name': 'daily_rainfall_2014.png',\n",
       "  'size': 58863,\n",
       "  'is_link_only': False,\n",
       "  'download_url': 'https://ndownloader.figshare.com/files/26579150',\n",
       "  'supplied_md5': 'fd32a2ffde300a31f8d63b1825d47e5e',\n",
       "  'computed_md5': 'fd32a2ffde300a31f8d63b1825d47e5e'},\n",
       " {'id': 26579171,\n",
       "  'name': 'environment.yml',\n",
       "  'size': 192,\n",
       "  'is_link_only': False,\n",
       "  'download_url': 'https://ndownloader.figshare.com/files/26579171',\n",
       "  'supplied_md5': '060b2020017eed93a1ee7dd8c65b2f34',\n",
       "  'computed_md5': '060b2020017eed93a1ee7dd8c65b2f34'},\n",
       " {'id': 26586554,\n",
       "  'name': 'README.md',\n",
       "  'size': 5422,\n",
       "  'is_link_only': False,\n",
       "  'download_url': 'https://ndownloader.figshare.com/files/26586554',\n",
       "  'supplied_md5': '61858c6cc0e6a6d6663a7e4c75bbd88c',\n",
       "  'computed_md5': '61858c6cc0e6a6d6663a7e4c75bbd88c'},\n",
       " {'id': 26766812,\n",
       "  'name': 'data.zip',\n",
       "  'size': 814041183,\n",
       "  'is_link_only': False,\n",
       "  'download_url': 'https://ndownloader.figshare.com/files/26766812',\n",
       "  'supplied_md5': 'b517383f76e77bd03755a63a8ff83ee9',\n",
       "  'computed_md5': 'b517383f76e77bd03755a63a8ff83ee9'},\n",
       " {'id': 26766815,\n",
       "  'name': 'get_data.py',\n",
       "  'size': 4113,\n",
       "  'is_link_only': False,\n",
       "  'download_url': 'https://ndownloader.figshare.com/files/26766815',\n",
       "  'supplied_md5': '7829028495fd9dec9680ea013474afa6',\n",
       "  'computed_md5': '7829028495fd9dec9680ea013474afa6'}]"
      ]
     },
     "execution_count": 14,
     "metadata": {},
     "output_type": "execute_result"
    }
   ],
   "source": [
    "response = requests.request(\"GET\", url, headers=headers)\n",
    "data = json.loads(response.text)  # contains all the data\n",
    "files = data[\"files\"]             # the data about the files\n",
    "files"
   ]
  },
  {
   "cell_type": "code",
   "execution_count": 15,
   "id": "2cdb26a9-6946-4afc-b141-c17fdb0b9759",
   "metadata": {},
   "outputs": [
    {
     "name": "stdout",
     "output_type": "stream",
     "text": [
      "CPU times: user 4.58 s, sys: 3.08 s, total: 7.66 s\n",
      "Wall time: 38.4 s\n"
     ]
    }
   ],
   "source": [
    "%%time\n",
    "files_to_dl = [\"data.zip\"] \n",
    "for file in files:\n",
    "    if file[\"name\"] in files_to_dl:\n",
    "        os.makedirs(output_directory, exist_ok=True)\n",
    "        urlretrieve(file[\"download_url\"], output_directory + file[\"name\"])"
   ]
  },
  {
   "cell_type": "code",
   "execution_count": 16,
   "id": "40386cd9-d8c6-4d4c-a6e4-58d6aa55893a",
   "metadata": {},
   "outputs": [
    {
     "name": "stdout",
     "output_type": "stream",
     "text": [
      "CPU times: user 14.5 s, sys: 1.09 s, total: 15.6 s\n",
      "Wall time: 15.7 s\n"
     ]
    }
   ],
   "source": [
    "%%time\n",
    "with zipfile.ZipFile(os.path.join(output_directory, \"data.zip\"), 'r') as f:\n",
    "    f.extractall(output_directory)"
   ]
  },
  {
   "cell_type": "markdown",
   "id": "68bb27d4-3cbd-444e-8b81-3cf5f2cd414e",
   "metadata": {},
   "source": [
    "## Combining data CSVs"
   ]
  },
  {
   "cell_type": "code",
   "execution_count": 17,
   "id": "e98a9279-1fbc-446e-b5aa-ba691abd2c1e",
   "metadata": {},
   "outputs": [],
   "source": [
    "files = glob.glob('data/*.csv')\n",
    "files.remove('data/observed_daily_rainfall_SYD.csv') # Use '/' for mac, '\\' for windows"
   ]
  },
  {
   "cell_type": "code",
   "execution_count": 18,
   "id": "259b11f5-2547-41ab-9326-d381ac3fa02a",
   "metadata": {},
   "outputs": [],
   "source": [
    "# in case you already ran the chunks and want to retest -- DELETE FOR SUBMISSION\n",
    "\n",
    "# files.remove('data\\combined_data.csv')  # Use '/' for mac, '\\' for windows"
   ]
  },
  {
   "cell_type": "code",
   "execution_count": 19,
   "id": "09cf5b53-6280-42c6-875b-4e9433e7ff1b",
   "metadata": {},
   "outputs": [
    {
     "data": {
      "text/plain": [
       "['data/MPI-ESM-1-2-HAM_daily_rainfall_NSW.csv',\n",
       " 'data/AWI-ESM-1-1-LR_daily_rainfall_NSW.csv',\n",
       " 'data/NorESM2-LM_daily_rainfall_NSW.csv',\n",
       " 'data/ACCESS-CM2_daily_rainfall_NSW.csv',\n",
       " 'data/FGOALS-f3-L_daily_rainfall_NSW.csv',\n",
       " 'data/CMCC-CM2-HR4_daily_rainfall_NSW.csv',\n",
       " 'data/MRI-ESM2-0_daily_rainfall_NSW.csv',\n",
       " 'data/GFDL-CM4_daily_rainfall_NSW.csv',\n",
       " 'data/BCC-CSM2-MR_daily_rainfall_NSW.csv',\n",
       " 'data/EC-Earth3-Veg-LR_daily_rainfall_NSW.csv',\n",
       " 'data/CMCC-ESM2_daily_rainfall_NSW.csv',\n",
       " 'data/NESM3_daily_rainfall_NSW.csv',\n",
       " 'data/MPI-ESM1-2-LR_daily_rainfall_NSW.csv',\n",
       " 'data/ACCESS-ESM1-5_daily_rainfall_NSW.csv',\n",
       " 'data/FGOALS-g3_daily_rainfall_NSW.csv',\n",
       " 'data/INM-CM4-8_daily_rainfall_NSW.csv',\n",
       " 'data/MPI-ESM1-2-HR_daily_rainfall_NSW.csv',\n",
       " 'data/TaiESM1_daily_rainfall_NSW.csv',\n",
       " 'data/NorESM2-MM_daily_rainfall_NSW.csv',\n",
       " 'data/CMCC-CM2-SR5_daily_rainfall_NSW.csv',\n",
       " 'data/KIOST-ESM_daily_rainfall_NSW.csv',\n",
       " 'data/INM-CM5-0_daily_rainfall_NSW.csv',\n",
       " 'data/MIROC6_daily_rainfall_NSW.csv',\n",
       " 'data/BCC-ESM1_daily_rainfall_NSW.csv',\n",
       " 'data/GFDL-ESM4_daily_rainfall_NSW.csv',\n",
       " 'data/CanESM5_daily_rainfall_NSW.csv',\n",
       " 'data/SAM0-UNICON_daily_rainfall_NSW.csv']"
      ]
     },
     "execution_count": 19,
     "metadata": {},
     "output_type": "execute_result"
    }
   ],
   "source": [
    "files"
   ]
  },
  {
   "cell_type": "code",
   "execution_count": 20,
   "id": "6ddfc2b8-43de-4d44-8c73-ecdb52f77a58",
   "metadata": {},
   "outputs": [],
   "source": [
    "def combine_csv(regex_string, files):\n",
    "    \"\"\"\n",
    "    Combines csv with given files and assigns name according to regex expression.  \n",
    "    Parameters\n",
    "    ----------\n",
    "    regex_string : string\n",
    "                   regex expression to extract model name  \n",
    "    files   : list\n",
    "            list of strings to the path of the file\n",
    "                \n",
    "    Returns\n",
    "    -------\n",
    "    df : pandas dataframe \n",
    "    \"\"\"\n",
    "    df = pd.concat((pd.read_csv(file, index_col=0)\n",
    "                    .assign(model=re.findall(regex_string, file)[0])\n",
    "                    for file in files))\n",
    "    return df"
   ]
  },
  {
   "cell_type": "code",
   "execution_count": 21,
   "id": "83ceb4c3-63fe-439f-b246-7ceb9303f0ec",
   "metadata": {},
   "outputs": [
    {
     "name": "stdout",
     "output_type": "stream",
     "text": [
      "CPU times: user 5min 49s, sys: 8.85 s, total: 5min 58s\n",
      "Wall time: 6min\n"
     ]
    }
   ],
   "source": [
    "%%time\n",
    "\n",
    "# Set regex for different operating system\n",
    "\n",
    "string_mac = r\"(?<=data/)(.*)(?=_daily)\" \n",
    "string_windows = r\"(?<=data\\\\)(.*)(?=_daily)\"\n",
    "\n",
    "if 'mac' in platform.platform():\n",
    "    df = combine_csv(string_mac, files)\n",
    "else:\n",
    "    df = combine_csv(string_windows, files)\n",
    "    \n",
    "df.to_csv(\"data/combined_data.csv\")"
   ]
  },
  {
   "cell_type": "code",
   "execution_count": 22,
   "id": "83f8c943-8cdd-4e2e-add5-63a5b4a3d964",
   "metadata": {},
   "outputs": [
    {
     "data": {
      "text/html": [
       "<div>\n",
       "<style scoped>\n",
       "    .dataframe tbody tr th:only-of-type {\n",
       "        vertical-align: middle;\n",
       "    }\n",
       "\n",
       "    .dataframe tbody tr th {\n",
       "        vertical-align: top;\n",
       "    }\n",
       "\n",
       "    .dataframe thead th {\n",
       "        text-align: right;\n",
       "    }\n",
       "</style>\n",
       "<table border=\"1\" class=\"dataframe\">\n",
       "  <thead>\n",
       "    <tr style=\"text-align: right;\">\n",
       "      <th></th>\n",
       "      <th>lat_min</th>\n",
       "      <th>lat_max</th>\n",
       "      <th>lon_min</th>\n",
       "      <th>lon_max</th>\n",
       "      <th>rain (mm/day)</th>\n",
       "      <th>model</th>\n",
       "    </tr>\n",
       "    <tr>\n",
       "      <th>time</th>\n",
       "      <th></th>\n",
       "      <th></th>\n",
       "      <th></th>\n",
       "      <th></th>\n",
       "      <th></th>\n",
       "      <th></th>\n",
       "    </tr>\n",
       "  </thead>\n",
       "  <tbody>\n",
       "    <tr>\n",
       "      <th>1889-01-01 12:00:00</th>\n",
       "      <td>-35.439867</td>\n",
       "      <td>-33.574619</td>\n",
       "      <td>141.5625</td>\n",
       "      <td>143.4375</td>\n",
       "      <td>4.244226e-13</td>\n",
       "      <td>MPI-ESM-1-2-HAM</td>\n",
       "    </tr>\n",
       "    <tr>\n",
       "      <th>1889-01-02 12:00:00</th>\n",
       "      <td>-35.439867</td>\n",
       "      <td>-33.574619</td>\n",
       "      <td>141.5625</td>\n",
       "      <td>143.4375</td>\n",
       "      <td>4.217326e-13</td>\n",
       "      <td>MPI-ESM-1-2-HAM</td>\n",
       "    </tr>\n",
       "    <tr>\n",
       "      <th>1889-01-03 12:00:00</th>\n",
       "      <td>-35.439867</td>\n",
       "      <td>-33.574619</td>\n",
       "      <td>141.5625</td>\n",
       "      <td>143.4375</td>\n",
       "      <td>4.498125e-13</td>\n",
       "      <td>MPI-ESM-1-2-HAM</td>\n",
       "    </tr>\n",
       "    <tr>\n",
       "      <th>1889-01-04 12:00:00</th>\n",
       "      <td>-35.439867</td>\n",
       "      <td>-33.574619</td>\n",
       "      <td>141.5625</td>\n",
       "      <td>143.4375</td>\n",
       "      <td>4.251282e-13</td>\n",
       "      <td>MPI-ESM-1-2-HAM</td>\n",
       "    </tr>\n",
       "    <tr>\n",
       "      <th>1889-01-05 12:00:00</th>\n",
       "      <td>-35.439867</td>\n",
       "      <td>-33.574619</td>\n",
       "      <td>141.5625</td>\n",
       "      <td>143.4375</td>\n",
       "      <td>4.270161e-13</td>\n",
       "      <td>MPI-ESM-1-2-HAM</td>\n",
       "    </tr>\n",
       "  </tbody>\n",
       "</table>\n",
       "</div>"
      ],
      "text/plain": [
       "                       lat_min    lat_max   lon_min   lon_max  rain (mm/day)  \\\n",
       "time                                                                           \n",
       "1889-01-01 12:00:00 -35.439867 -33.574619  141.5625  143.4375   4.244226e-13   \n",
       "1889-01-02 12:00:00 -35.439867 -33.574619  141.5625  143.4375   4.217326e-13   \n",
       "1889-01-03 12:00:00 -35.439867 -33.574619  141.5625  143.4375   4.498125e-13   \n",
       "1889-01-04 12:00:00 -35.439867 -33.574619  141.5625  143.4375   4.251282e-13   \n",
       "1889-01-05 12:00:00 -35.439867 -33.574619  141.5625  143.4375   4.270161e-13   \n",
       "\n",
       "                               model  \n",
       "time                                  \n",
       "1889-01-01 12:00:00  MPI-ESM-1-2-HAM  \n",
       "1889-01-02 12:00:00  MPI-ESM-1-2-HAM  \n",
       "1889-01-03 12:00:00  MPI-ESM-1-2-HAM  \n",
       "1889-01-04 12:00:00  MPI-ESM-1-2-HAM  \n",
       "1889-01-05 12:00:00  MPI-ESM-1-2-HAM  "
      ]
     },
     "execution_count": 22,
     "metadata": {},
     "output_type": "execute_result"
    }
   ],
   "source": [
    "df.head()"
   ]
  },
  {
   "cell_type": "markdown",
   "id": "a0d5f707-6b20-4f4a-a9f9-23af654bf7d8",
   "metadata": {},
   "source": [
    "| Team Member | Operating System | RAM | Processor | Is SSD | Time taken |\n",
    "|:-----------:|:----------------:|:---:|:---------:|:------:|:----------:|\n",
    "| Qingqing   |   Windows               |   16GB  |     Intel(R) Core(TM) i7-6700HQ CPU @ 2.60GHz 2.59 GHz      |   T     |     10min 39s       |\n",
    "| Lianna   |       MacOS           |  16GB   |    Apple M1 - 8 Core       |    T    |     6min 5s       |\n",
    "| Linhan    |   Windows              |   16GB  |    AMD Ryzen7 4800h       |    T    |     8min23s   |\n",
    "|  Doris    |      MacOS       |   16GB  |   1.4 GHz Quad-Core Intel Core i5    |    T    |   8min 46s   |"
   ]
  },
  {
   "cell_type": "markdown",
   "id": "4d4c1052-9ed0-4599-bf98-05388e903d23",
   "metadata": {},
   "source": [
    "## Loading the combined CSV to memory and performing a simple EDA"
   ]
  },
  {
   "cell_type": "code",
   "execution_count": 23,
   "id": "69f98e51-4616-4c02-ab0e-cdd9ea0bd48b",
   "metadata": {},
   "outputs": [
    {
     "data": {
      "text/plain": [
       "DataTransformerRegistry.enable('default')"
      ]
     },
     "execution_count": 23,
     "metadata": {},
     "output_type": "execute_result"
    }
   ],
   "source": [
    "alt.data_transformers.disable_max_rows()"
   ]
  },
  {
   "cell_type": "code",
   "execution_count": 2,
   "id": "e3eb99ad-1d0b-4a19-9895-a3d0696b2752",
   "metadata": {},
   "outputs": [
    {
     "name": "stdout",
     "output_type": "stream",
     "text": [
      "<class 'pandas.core.frame.DataFrame'>\n",
      "RangeIndex: 62467843 entries, 0 to 62467842\n",
      "Data columns (total 7 columns):\n",
      " #   Column         Dtype  \n",
      "---  ------         -----  \n",
      " 0   time           object \n",
      " 1   lat_min        float64\n",
      " 2   lat_max        float64\n",
      " 3   lon_min        float64\n",
      " 4   lon_max        float64\n",
      " 5   rain (mm/day)  float64\n",
      " 6   model          object \n",
      "dtypes: float64(5), object(2)\n",
      "memory usage: 3.3+ GB\n"
     ]
    }
   ],
   "source": [
    "data = pd.read_csv(\"data/combined_data.csv\", parse_dates=True)\n",
    "data.info()"
   ]
  },
  {
   "cell_type": "code",
   "execution_count": 3,
   "id": "acba2a70-05e8-4b63-82cb-cd4e03d1dcb8",
   "metadata": {},
   "outputs": [
    {
     "name": "stdout",
     "output_type": "stream",
     "text": [
      "<class 'pandas.core.frame.DataFrame'>\n",
      "RangeIndex: 62467843 entries, 0 to 62467842\n",
      "Data columns (total 7 columns):\n",
      " #   Column         Dtype         \n",
      "---  ------         -----         \n",
      " 0   time           datetime64[ns]\n",
      " 1   lat_min        float32       \n",
      " 2   lat_max        float32       \n",
      " 3   lon_min        float32       \n",
      " 4   lon_max        float32       \n",
      " 5   rain (mm/day)  float32       \n",
      " 6   model          object        \n",
      "dtypes: datetime64[ns](1), float32(5), object(1)\n",
      "memory usage: 2.1+ GB\n",
      "CPU times: total: 50.3 s\n",
      "Wall time: 50.6 s\n"
     ]
    }
   ],
   "source": [
    "%%time\n",
    "data = data.astype({\"time\": 'datetime64[ns]',\n",
    "             'lat_min': 'float32',\n",
    "             'lat_max': 'float32',\n",
    "             'lon_min': 'float32',\n",
    "             'lon_max': 'float32',\n",
    "             'rain (mm/day)': 'float32'})\n",
    "data.info()"
   ]
  },
  {
   "cell_type": "markdown",
   "id": "db0f1cda-8cc1-4d4d-9d79-4cffe8934fe5",
   "metadata": {},
   "source": [
    "**After converting the datatypes of numeric columns, the memory usage gets reduced to 2.1GB.**"
   ]
  },
  {
   "cell_type": "markdown",
   "id": "435f52fd-dd93-44c2-abf9-81f6bead6e5c",
   "metadata": {},
   "source": [
    "| Team Member | Operating System | RAM | Processor | Is SSD | Time taken |\n",
    "|:-----------:|:----------------:|:---:|:---------:|:------:|:----------:|\n",
    "| Qingqing   |   Windows               |   16GB  |     Intel(R) Core(TM) i7-6700HQ CPU @ 2.60GHz 2.59 GHz      |   T     |     55.6 s     |\n",
    "| Lianna   |       MacOS           |  16GB   |    Apple M1 - 8 Core       |    T    |     11.4 s     |\n",
    "| Linhan    |   Windows              |   16GB  |    AMD Ryzen7 4800h       |    T    |    1 min 59 s    |\n",
    "|  Doris    |      MacOS       |   16GB  |   1.4 GHz Quad-Core Intel Core i5    |    T    |     |"
   ]
  },
  {
   "cell_type": "code",
   "execution_count": null,
   "id": "20555f63-ae6a-4c6e-9b78-c6346f5cb909",
   "metadata": {},
   "outputs": [],
   "source": [
    "# data_smp = data.sample(2000)\n",
    "# data_smp.info()"
   ]
  },
  {
   "cell_type": "markdown",
   "id": "0f0069b8-3b1a-48a4-a3e0-2d0ccbe81f4b",
   "metadata": {},
   "source": [
    "### Line plots of overall rainfall over time"
   ]
  },
  {
   "cell_type": "code",
   "execution_count": 26,
   "id": "db0c5d82-8467-4c92-af72-6cf11aa45d3b",
   "metadata": {},
   "outputs": [
    {
     "data": {
      "text/html": [
       "<div>\n",
       "<style scoped>\n",
       "    .dataframe tbody tr th:only-of-type {\n",
       "        vertical-align: middle;\n",
       "    }\n",
       "\n",
       "    .dataframe tbody tr th {\n",
       "        vertical-align: top;\n",
       "    }\n",
       "\n",
       "    .dataframe thead th {\n",
       "        text-align: right;\n",
       "    }\n",
       "</style>\n",
       "<table border=\"1\" class=\"dataframe\">\n",
       "  <thead>\n",
       "    <tr style=\"text-align: right;\">\n",
       "      <th></th>\n",
       "      <th>lat_min</th>\n",
       "      <th>lat_max</th>\n",
       "      <th>lon_min</th>\n",
       "      <th>lon_max</th>\n",
       "      <th>rain (mm/day)</th>\n",
       "    </tr>\n",
       "  </thead>\n",
       "  <tbody>\n",
       "    <tr>\n",
       "      <th>count</th>\n",
       "      <td>5.924854e+07</td>\n",
       "      <td>6.246784e+07</td>\n",
       "      <td>5.924854e+07</td>\n",
       "      <td>6.246784e+07</td>\n",
       "      <td>5.924854e+07</td>\n",
       "    </tr>\n",
       "    <tr>\n",
       "      <th>mean</th>\n",
       "      <td>-3.310497e+01</td>\n",
       "      <td>-3.197765e+01</td>\n",
       "      <td>1.469057e+02</td>\n",
       "      <td>1.482150e+02</td>\n",
       "      <td>1.901173e+00</td>\n",
       "    </tr>\n",
       "    <tr>\n",
       "      <th>std</th>\n",
       "      <td>1.963549e+00</td>\n",
       "      <td>1.992067e+00</td>\n",
       "      <td>3.793784e+00</td>\n",
       "      <td>3.809994e+00</td>\n",
       "      <td>5.585735e+00</td>\n",
       "    </tr>\n",
       "    <tr>\n",
       "      <th>min</th>\n",
       "      <td>-3.646739e+01</td>\n",
       "      <td>-3.600000e+01</td>\n",
       "      <td>1.406250e+02</td>\n",
       "      <td>1.412500e+02</td>\n",
       "      <td>-3.807373e-12</td>\n",
       "    </tr>\n",
       "    <tr>\n",
       "      <th>25%</th>\n",
       "      <td>-3.486911e+01</td>\n",
       "      <td>-3.366221e+01</td>\n",
       "      <td>1.434375e+02</td>\n",
       "      <td>1.450000e+02</td>\n",
       "      <td>3.838413e-06</td>\n",
       "    </tr>\n",
       "    <tr>\n",
       "      <th>50%</th>\n",
       "      <td>-3.300000e+01</td>\n",
       "      <td>-3.204189e+01</td>\n",
       "      <td>1.468750e+02</td>\n",
       "      <td>1.481250e+02</td>\n",
       "      <td>6.154947e-02</td>\n",
       "    </tr>\n",
       "    <tr>\n",
       "      <th>75%</th>\n",
       "      <td>-3.140170e+01</td>\n",
       "      <td>-3.015707e+01</td>\n",
       "      <td>1.501875e+02</td>\n",
       "      <td>1.513125e+02</td>\n",
       "      <td>1.020918e+00</td>\n",
       "    </tr>\n",
       "    <tr>\n",
       "      <th>max</th>\n",
       "      <td>-2.990000e+01</td>\n",
       "      <td>-2.790606e+01</td>\n",
       "      <td>1.537500e+02</td>\n",
       "      <td>1.556250e+02</td>\n",
       "      <td>4.329395e+02</td>\n",
       "    </tr>\n",
       "  </tbody>\n",
       "</table>\n",
       "</div>"
      ],
      "text/plain": [
       "            lat_min       lat_max       lon_min       lon_max  rain (mm/day)\n",
       "count  5.924854e+07  6.246784e+07  5.924854e+07  6.246784e+07   5.924854e+07\n",
       "mean  -3.310497e+01 -3.197765e+01  1.469057e+02  1.482150e+02   1.901173e+00\n",
       "std    1.963549e+00  1.992067e+00  3.793784e+00  3.809994e+00   5.585735e+00\n",
       "min   -3.646739e+01 -3.600000e+01  1.406250e+02  1.412500e+02  -3.807373e-12\n",
       "25%   -3.486911e+01 -3.366221e+01  1.434375e+02  1.450000e+02   3.838413e-06\n",
       "50%   -3.300000e+01 -3.204189e+01  1.468750e+02  1.481250e+02   6.154947e-02\n",
       "75%   -3.140170e+01 -3.015707e+01  1.501875e+02  1.513125e+02   1.020918e+00\n",
       "max   -2.990000e+01 -2.790606e+01  1.537500e+02  1.556250e+02   4.329395e+02"
      ]
     },
     "execution_count": 26,
     "metadata": {},
     "output_type": "execute_result"
    }
   ],
   "source": [
    "data.describe()"
   ]
  },
  {
   "cell_type": "markdown",
   "id": "f8925bda-e0b7-428d-9408-2f31e731f8c7",
   "metadata": {},
   "source": [
    "| Team Member | Operating System | RAM | Processor | Is SSD | Time taken |\n",
    "|:-----------:|:----------------:|:---:|:---------:|:------:|:----------:|\n",
    "| Qingqing   |   Windows               |   16GB  |     Intel(R) Core(TM) i7-6700HQ CPU @ 2.60GHz 2.59 GHz      |   T     |       |\n",
    "| Lianna   |       MacOS           |  16GB   |    Apple M1 - 8 Core       |    T    |            |\n",
    "| Linhan    |   Windows              |   16GB  |    AMD Ryzen7 4800h       |    T    |       |\n",
    "|  Doris    |      MacOS       |   16GB  |   1.4 GHz Quad-Core Intel Core i5    |    T    |     |"
   ]
  },
  {
   "cell_type": "code",
   "execution_count": null,
   "id": "ffc03f38-df26-4629-8868-aef119521f3d",
   "metadata": {
    "tags": []
   },
   "outputs": [],
   "source": [
    "%%time\n",
    "# Using Altair\n",
    "\n",
    "alt.Chart(data).mark_line().encode(  \n",
    "    x=\"time\",\n",
    "    y='rain (mm/day)',\n",
    ").properties(\n",
    "    width=400,\n",
    "    height=200\n",
    ")"
   ]
  },
  {
   "cell_type": "markdown",
   "id": "5605c2e3-6638-437f-bed0-e8c8743bc53e",
   "metadata": {},
   "source": [
    "| Team Member | Operating System | RAM | Processor | Is SSD | Time taken |\n",
    "|:-----------:|:----------------:|:---:|:---------:|:------:|:----------:|\n",
    "| Qingqing   |   Windows               |   16GB  |     Intel(R) Core(TM) i7-6700HQ CPU @ 2.60GHz 2.59 GHz      |   T     |        |\n",
    "| Lianna   |       MacOS           |  16GB   |    Apple M1 - 8 Core       |    T    |            |\n",
    "| Linhan    |   Windows              |   16GB  |    AMD Ryzen7 4800h       |    T    |       |\n",
    "|  Doris    |      MacOS       |   16GB  |   1.4 GHz Quad-Core Intel Core i5    |    T    |     |"
   ]
  },
  {
   "cell_type": "markdown",
   "id": "53596018-d725-4a01-bf8c-bacbbe0a06b7",
   "metadata": {
    "tags": []
   },
   "source": [
    "### Line plots of rainfall over time by model"
   ]
  },
  {
   "cell_type": "code",
   "execution_count": null,
   "id": "899b6b32-c590-49be-95b1-3b727ff6841d",
   "metadata": {},
   "outputs": [],
   "source": [
    "%%time\n",
    "\n",
    "# alt.Chart(data_smp).mark_line().encode(\n",
    "alt.Chart(data).mark_line().encode( \n",
    "    x=\"time\",\n",
    "    y='rain (mm/day)',\n",
    ").properties(\n",
    "    width=250,\n",
    "    height=150\n",
    ").facet(\n",
    "    \"model\",\n",
    "    columns=3\n",
    ") "
   ]
  },
  {
   "cell_type": "markdown",
   "id": "77cf4f13-3e3f-4f44-adef-7b9a8bb11366",
   "metadata": {},
   "source": [
    "| Team Member | Operating System | RAM | Processor | Is SSD | Time taken |\n",
    "|:-----------:|:----------------:|:---:|:---------:|:------:|:----------:|\n",
    "| Qingqing   |   Windows               |   16GB  |     Intel(R) Core(TM) i7-6700HQ CPU @ 2.60GHz 2.59 GHz      |   T     |      |\n",
    "| Lianna   |       MacOS           |  16GB   |    Apple M1 - 8 Core       |    T    |            |\n",
    "| Linhan    |   Windows              |   16GB  |    AMD Ryzen7 4800h       |    T    |       |\n",
    "|  Doris    |      MacOS       |   16GB  |   1.4 GHz Quad-Core Intel Core i5    |    T    |     |"
   ]
  },
  {
   "cell_type": "markdown",
   "id": "a2c24366-8c03-48d7-9aef-2ac85e506f2f",
   "metadata": {},
   "source": [
    "### Histogram of rainfall by lat_min, lat_max, lon_min, lon_max"
   ]
  },
  {
   "cell_type": "code",
   "execution_count": null,
   "id": "e7e117fb-877d-415c-9d6c-09e766c4d888",
   "metadata": {},
   "outputs": [],
   "source": [
    "def plot_rain(xcol):\n",
    "    # plot = alt.Chart(data_smp).mark_bar().encode(\n",
    "    plot = alt.Chart(data).mark_bar().encode(\n",
    "        x=xcol,\n",
    "        y='rain (mm/day)',\n",
    "    ).properties(\n",
    "        width=400,\n",
    "        height=200\n",
    "    )\n",
    "    return plot\n",
    "    "
   ]
  },
  {
   "cell_type": "code",
   "execution_count": null,
   "id": "85637937-817c-4402-bc2e-862488d34e48",
   "metadata": {},
   "outputs": [],
   "source": [
    "(plot_rain(\"lat_min\") | plot_rain(\"lat_max\")) & (plot_rain(\"lon_min\") | plot_rain(\"lon_max\"))"
   ]
  },
  {
   "cell_type": "markdown",
   "id": "4e24dade-62aa-4728-9628-4d799ef4dba0",
   "metadata": {},
   "source": [
    "### Correlation matrices"
   ]
  },
  {
   "cell_type": "code",
   "execution_count": null,
   "id": "edd5daa5-caba-4e08-a597-eef7db235663",
   "metadata": {},
   "outputs": [],
   "source": [
    "# data_smp_filtered = data_smp[data_smp[\"model\"] != \"GFDL-ESM4\"]"
   ]
  },
  {
   "cell_type": "code",
   "execution_count": null,
   "id": "8579f73d-34da-449c-a158-f172327e6800",
   "metadata": {},
   "outputs": [],
   "source": [
    "%%time\n",
    "data.corr().style.background_gradient(cmap='Blues')"
   ]
  },
  {
   "cell_type": "markdown",
   "id": "3b460131-b9e8-47d2-97fb-3cf8ab9d93d5",
   "metadata": {},
   "source": [
    "| Team Member | Operating System | RAM | Processor | Is SSD | Time taken |\n",
    "|:-----------:|:----------------:|:---:|:---------:|:------:|:----------:|\n",
    "| Qingqing   |   Windows               |   16GB  |     Intel(R) Core(TM) i7-6700HQ CPU @ 2.60GHz 2.59 GHz      |   T     |     |\n",
    "| Lianna   |       MacOS           |  16GB   |    Apple M1 - 8 Core       |    T    |            |\n",
    "| Linhan    |   Windows              |   16GB  |    AMD Ryzen7 4800h       |    T    |       |\n",
    "|  Doris    |      MacOS       |   16GB  |   1.4 GHz Quad-Core Intel Core i5    |    T    |     |"
   ]
  },
  {
   "cell_type": "markdown",
   "id": "a8360b0e-ed80-472b-aae3-09a6e507478d",
   "metadata": {},
   "source": [
    "Check linearity between `lat_min`, `lat_max`:"
   ]
  },
  {
   "cell_type": "code",
   "execution_count": null,
   "id": "1170f802-4543-45e0-a48f-d68adeb668da",
   "metadata": {},
   "outputs": [],
   "source": [
    "%%time\n",
    "alt.Chart(data).mark_line().encode(\n",
    "# alt.Chart(data_smp).mark_line().encode(\n",
    "    x=\"lat_min\",\n",
    "    y='lat_max',\n",
    ").properties(\n",
    "    width=400,\n",
    "    height=200\n",
    ")"
   ]
  },
  {
   "cell_type": "markdown",
   "id": "43c2c9ea-779c-4109-977b-9cda20fce5e8",
   "metadata": {},
   "source": [
    "| Team Member | Operating System | RAM | Processor | Is SSD | Time taken |\n",
    "|:-----------:|:----------------:|:---:|:---------:|:------:|:----------:|\n",
    "| Qingqing   |   Windows               |   16GB  |     Intel(R) Core(TM) i7-6700HQ CPU @ 2.60GHz 2.59 GHz      |   T     |      |\n",
    "| Lianna   |       MacOS           |  16GB   |    Apple M1 - 8 Core       |    T    |            |\n",
    "| Linhan    |   Windows              |   16GB  |    AMD Ryzen7 4800h       |    T    |       |\n",
    "|  Doris    |      MacOS       |   16GB  |   1.4 GHz Quad-Core Intel Core i5    |    T    |     |"
   ]
  },
  {
   "cell_type": "markdown",
   "id": "2583fc20-c83e-4616-9f81-10ef799633f9",
   "metadata": {},
   "source": [
    "Check linearity between `lon_min`, `lon_max`:"
   ]
  },
  {
   "cell_type": "code",
   "execution_count": null,
   "id": "5cf2b0d1-c17c-4027-b8ac-2321dd522c7d",
   "metadata": {},
   "outputs": [],
   "source": [
    "%%time\n",
    "alt.Chart(data_smp).mark_line().encode(\n",
    "    x=\"lon_min\",\n",
    "    y='lon_max'\n",
    ").properties(\n",
    "    width=400,\n",
    "    height=200\n",
    ")"
   ]
  },
  {
   "cell_type": "markdown",
   "id": "6b25ca92-666c-498c-8082-c2c5643005b7",
   "metadata": {},
   "source": [
    "| Team Member | Operating System | RAM | Processor | Is SSD | Time taken |\n",
    "|:-----------:|:----------------:|:---:|:---------:|:------:|:----------:|\n",
    "| Qingqing   |   Windows               |   16GB  |     Intel(R) Core(TM) i7-6700HQ CPU @ 2.60GHz 2.59 GHz      |   T     |        |\n",
    "| Lianna   |       MacOS           |  16GB   |    Apple M1 - 8 Core       |    T    |            |\n",
    "| Linhan    |   Windows              |   16GB  |    AMD Ryzen7 4800h       |    T    |       |\n",
    "|  Doris    |      MacOS       |   16GB  |   1.4 GHz Quad-Core Intel Core i5    |    T    |     |"
   ]
  },
  {
   "cell_type": "markdown",
   "id": "5b28a8a8-6653-430d-8bfb-74dd0a8e6029",
   "metadata": {},
   "source": [
    "Remove columns `lat_min` and `lon_min` as they show strong linearity with `lat_max` and `lon_max` and **reduce memory usage to 1.6GB**."
   ]
  },
  {
   "cell_type": "code",
   "execution_count": null,
   "id": "9d4b4e00-710f-4da3-a286-e899bcb92bf8",
   "metadata": {},
   "outputs": [],
   "source": [
    "# data_smp_filtered = data_smp.drop(columns=['lat_min', 'lon_min']) # Filter sampled data\n",
    "data_filtered = data.drop(columns=['lat_min', 'lon_min'])  # Filter original data"
   ]
  },
  {
   "cell_type": "code",
   "execution_count": null,
   "id": "7c992f72-290b-48e3-8900-ce63c524dd7d",
   "metadata": {},
   "outputs": [],
   "source": [
    "%%time\n",
    "data_filtered.info() # Memory usage reduced to 1.6GB"
   ]
  },
  {
   "cell_type": "markdown",
   "id": "046bf0b7-d3af-40f1-bef4-bdcc186fa263",
   "metadata": {},
   "source": [
    "| Team Member | Operating System | RAM | Processor | Is SSD | Time taken |\n",
    "|:-----------:|:----------------:|:---:|:---------:|:------:|:----------:|\n",
    "| Qingqing   |   Windows               |   16GB  |     Intel(R) Core(TM) i7-6700HQ CPU @ 2.60GHz 2.59 GHz      |   T     |     156 ms      |\n",
    "| Lianna   |       MacOS           |  16GB   |    Apple M1 - 8 Core       |    T    |     24.5 ms       |\n",
    "| Linhan    |   Windows              |   16GB  |    AMD Ryzen7 4800h       |    T    |   323ms    |\n",
    "|  Doris    |      MacOS       |   16GB  |   1.4 GHz Quad-Core Intel Core i5    |    T    |     |"
   ]
  },
  {
   "cell_type": "markdown",
   "id": "42f7e1fa-121e-4eff-a277-1af429879cd4",
   "metadata": {},
   "source": [
    "### Geographical distribution of rainfall"
   ]
  },
  {
   "cell_type": "code",
   "execution_count": null,
   "id": "2259ea52-f295-4a46-9069-21c14ca40f4e",
   "metadata": {},
   "outputs": [],
   "source": [
    "%%time\n",
    "\n",
    "alt.Chart(data_filtered).mark_point().encode(         \n",
    "    alt.X('lat_max', title = \"Latitude\", scale=alt.Scale(zero=False)),              \n",
    "    alt.Y('lon_max', title = \"Longitude\", scale=alt.Scale(zero=False)),          \n",
    "    size = alt.Size('rain (mm/day)')                                               \n",
    ") "
   ]
  },
  {
   "cell_type": "markdown",
   "id": "48a49315-197e-4f08-99ba-77ce9f556e67",
   "metadata": {},
   "source": [
    "## Perform a simple EDA in R"
   ]
  },
  {
   "cell_type": "code",
   "execution_count": 1,
   "id": "bccb28f1-738d-4c3c-869c-197222a813b4",
   "metadata": {},
   "outputs": [],
   "source": [
    "import pyarrow.dataset as ds\n",
    "import pyarrow as pa\n",
    "import pandas as pd\n",
    "import pyarrow \n",
    "from pyarrow import csv\n",
    "import rpy2_arrow.pyarrow_rarrow as pyra"
   ]
  },
  {
   "cell_type": "markdown",
   "id": "88db1f8b",
   "metadata": {},
   "source": [
    "##### The baseline to transfer the dataframe from python to R by Pandas exchange："
   ]
  },
  {
   "cell_type": "code",
   "execution_count": 2,
   "id": "cb031201",
   "metadata": {},
   "outputs": [
    {
     "name": "stderr",
     "output_type": "stream",
     "text": [
      "D:\\Miniconda3\\envs\\525_2022\\lib\\site-packages\\rpy2\\robjects\\packages.py:366: UserWarning: The symbol 'quartz' is not in this R namespace/package.\n",
      "  warnings.warn(\n"
     ]
    }
   ],
   "source": [
    "# Load the cell magic\n",
    "%load_ext rpy2.ipython"
   ]
  },
  {
   "cell_type": "markdown",
   "id": "224f55c1",
   "metadata": {},
   "source": [
    "##### It is oversized to read by pandas, so we choose to minimize the data set to 10,000,00 rows:"
   ]
  },
  {
   "cell_type": "code",
   "execution_count": 3,
   "id": "f1bccacd",
   "metadata": {},
   "outputs": [],
   "source": [
    "df_combined = pd.read_csv(\"data/combined_data.csv\", nrows=10000000)"
   ]
  },
  {
   "cell_type": "code",
   "execution_count": 4,
   "id": "4065d9f6",
   "metadata": {},
   "outputs": [
    {
     "name": "stdout",
     "output_type": "stream",
     "text": [
      "           model       n\n",
      "1     ACCESS-CM2 1932840\n",
      "2  ACCESS-ESM1-5 1610700\n",
      "3 AWI-ESM-1-1-LR  966420\n",
      "4    BCC-CSM2-MR 3035340\n",
      "5       BCC-ESM1  551880\n",
      "6        CanESM5  551880\n",
      "7   CMCC-CM2-HR4 1350940\n",
      "Time difference of 0.7681901 secs\n",
      "CPU times: total: 9min 17s\n",
      "Wall time: 9min 19s\n"
     ]
    }
   ],
   "source": [
    "%%time\n",
    "%%R -i df_combined\n",
    "start_time <- Sys.time()\n",
    "suppressMessages(library(dplyr))\n",
    "result <- df_combined %>% count(model)\n",
    "print(result)\n",
    "end_time <- Sys.time()\n",
    "print(end_time - start_time)"
   ]
  },
  {
   "cell_type": "markdown",
   "id": "3019785b",
   "metadata": {},
   "source": [
    "##### The baseline to transfer the dataframe from python to R by Pandas exchange：\n",
    "\n",
    "| Team Member | Operating System | RAM | Processor | Is SSD | Time taken |\n",
    "|:-----------:|:----------------:|:---:|:---------:|:------:|:----------:|\n",
    "| Qingqing   |   Windows               |   16GB  |     Intel(R) Core(TM) i7-6700HQ CPU @ 2.60GHz 2.59 GHz      |   T     |    9min 19s       |\n",
    "| Lianna   |       MacOS           |  16GB   |    Apple M1 - 8 Core       |    T    |    4 min 27s        |\n",
    "| Linhan    |   Windows              |   16GB  |    AMD Ryzen7 4800h       |    T    |     12min 31s   |\n",
    "|  Doris    |      MacOS       |   16GB  |   1.4 GHz Quad-Core Intel Core i5    |    T    |      |\n",
    "\n",
    "##### Next we will transfer the dataframe by Arrow exchange:"
   ]
  },
  {
   "cell_type": "code",
   "execution_count": 31,
   "id": "20317ab2-0d19-44d9-aacf-9e709fed815d",
   "metadata": {},
   "outputs": [
    {
     "name": "stdout",
     "output_type": "stream",
     "text": [
      "CPU times: user 33.4 s, sys: 3.37 s, total: 36.8 s\n",
      "Wall time: 36 s\n"
     ]
    }
   ],
   "source": [
    "%%time\n",
    "# Adapted from lecture notes\n",
    "dataset = ds.dataset(\"data/combined_data.csv\", format=\"csv\")\n",
    "table = dataset.to_table()\n",
    "r_table = pyra.converter.py2rpy(table)"
   ]
  },
  {
   "cell_type": "code",
   "execution_count": 32,
   "id": "9c15fe19-6ad4-46f5-b732-a26d16d574d4",
   "metadata": {},
   "outputs": [
    {
     "name": "stdout",
     "output_type": "stream",
     "text": [
      "              Length   Class        Mode       \n",
      "time          62467843 ChunkedArray environment\n",
      "lat_min       62467843 ChunkedArray environment\n",
      "lat_max       62467843 ChunkedArray environment\n",
      "lon_min       62467843 ChunkedArray environment\n",
      "lon_max       62467843 ChunkedArray environment\n",
      "rain (mm/day) 62467843 ChunkedArray environment\n",
      "model         62467843 ChunkedArray environment\n",
      "Time difference of 0.003658056 secs\n",
      "CPU times: user 19.1 ms, sys: 7.83 ms, total: 26.9 ms\n",
      "Wall time: 58.5 ms\n"
     ]
    }
   ],
   "source": [
    "%%time\n",
    "%%R -i r_table\n",
    "start_time <- Sys.time()\n",
    "suppressMessages(library(dplyr))\n",
    "result <- r_table %>% summary()\n",
    "end_time <- Sys.time()\n",
    "print(result)\n",
    "print(end_time - start_time)"
   ]
  },
  {
   "cell_type": "markdown",
   "id": "491f82ad",
   "metadata": {},
   "source": [
    "##### The approac to transfer the dataframe from python to R by Arrow exchange：\n",
    "\n",
    "| Team Member | Operating System | RAM | Processor | Is SSD | Time taken |\n",
    "|:-----------:|:----------------:|:---:|:---------:|:------:|:----------:|\n",
    "| Qingqing   |   Windows               |   16GB  |     Intel(R) Core(TM) i7-6700HQ CPU @ 2.60GHz 2.59 GHz      |   T     |        77 ms    |\n",
    "| Lianna   |       MacOS           |  16GB   |    Apple M1 - 8 Core       |    T    |    20.9 ms        |\n",
    "| Linhan    |   Windows              |   16GB  |    AMD Ryzen7 4800h       |    T    |   1.17s     |\n",
    "|  Doris    |      MacOS       |   16GB  |   1.4 GHz Quad-Core Intel Core i5    |    T    |      |"
   ]
  },
  {
   "cell_type": "markdown",
   "id": "3f9effae-76df-477c-a018-01aae728f904",
   "metadata": {
    "tags": []
   },
   "source": [
    "### Reason of choosing Arrow exchange approach over others:\n",
    "- We chose Arrow exchange to convert pandas data frame to R data frame. \n",
    "    - Apache Arrow greatly improved performances when moving data between Python and R compared to purely Pandas exchange (from 4-7 minutes to seconds). Clearly, from the comparison above, using Arrow exchange proved to be much faster and more efficient than Panda exchange.\n",
    "    - Compared to the Parquet file and the Feather file, in addition to the good performance, Arrow Exchange doesn't need to save extra files, since we already have CSV file in our case, we thought it would be better if we can skip this step and save storage. And Feather is still in the developmental stage and Parquet format, for the most part is used for archival storage purposes.\n",
    "    - Arrow is well integrated into the dplyr, and many dplyr verbs are supported, so it is very convenient to use Arrow Exchange here. Using pandas exchange may use more time since most of the time is spent on serialization and deserialization process, though what we do inside R may take less time. And with arrow table, we have zero-copy reads and minimum serialization, which makes time spent on the process less.\n",
    "    - Arrow is robust, fast, and is well operated on independent machines, thus we believe it is the best choice for milestone one completion.\n",
    "    \n",
    "### EDA"
   ]
  },
  {
   "cell_type": "code",
   "execution_count": 33,
   "id": "bb8182fd",
   "metadata": {},
   "outputs": [],
   "source": [
    "%reload_ext rpy2.ipython"
   ]
  },
  {
   "cell_type": "code",
   "execution_count": 34,
   "id": "b4f9f12a",
   "metadata": {},
   "outputs": [
    {
     "name": "stdout",
     "output_type": "stream",
     "text": [
      "Table\n",
      "6 rows x 7 columns\n",
      "$time <timestamp[s]>\n",
      "$lat_min <double>\n",
      "$lat_max <double>\n",
      "$lon_min <double>\n",
      "$lon_max <double>\n",
      "$rain (mm/day) <double>\n",
      "$model <string>\n"
     ]
    }
   ],
   "source": [
    "%%R -i r_table\n",
    "suppressMessages(library(ggplot2, warn.conflicts = FALSE))\n",
    "suppressMessages(library(tidyverse, warn.conflicts = FALSE))\n",
    "suppressMessages(library(dplyr, warn.conflicts = FALSE))\n",
    "\n",
    "\n",
    "head(r_table)"
   ]
  },
  {
   "cell_type": "code",
   "execution_count": 35,
   "id": "41371ab3",
   "metadata": {},
   "outputs": [
    {
     "name": "stdout",
     "output_type": "stream",
     "text": [
      "# A tibble: 27 × 2\n",
      "   model                  n\n",
      "   <chr>              <int>\n",
      " 1 MPI-ESM-1-2-HAM   966420\n",
      " 2 AWI-ESM-1-1-LR    966420\n",
      " 3 NorESM2-LM        919800\n",
      " 4 ACCESS-CM2       1932840\n",
      " 5 FGOALS-f3-L      3219300\n",
      " 6 CMCC-CM2-HR4     3541230\n",
      " 7 MRI-ESM2-0       3037320\n",
      " 8 GFDL-CM4         3219300\n",
      " 9 BCC-CSM2-MR      3035340\n",
      "10 EC-Earth3-Veg-LR 3037320\n",
      "11 CMCC-ESM2        3541230\n",
      "12 NESM3             966420\n",
      "13 MPI-ESM1-2-LR     966420\n",
      "14 ACCESS-ESM1-5    1610700\n",
      "15 FGOALS-g3        1287720\n",
      "16 INM-CM4-8        1609650\n",
      "17 MPI-ESM1-2-HR    5154240\n",
      "18 TaiESM1          3541230\n",
      "19 NorESM2-MM       3541230\n",
      "20 CMCC-CM2-SR5     3541230\n",
      "21 KIOST-ESM        1287720\n",
      "22 INM-CM5-0        1609650\n",
      "23 MIROC6           2070900\n",
      "24 BCC-ESM1          551880\n",
      "25 GFDL-ESM4        3219300\n",
      "26 CanESM5           551880\n",
      "27 SAM0-UNICON      3541153\n",
      "              Length   Class        Mode       \n",
      "time          62467843 ChunkedArray environment\n",
      "lat_min       62467843 ChunkedArray environment\n",
      "lat_max       62467843 ChunkedArray environment\n",
      "lon_min       62467843 ChunkedArray environment\n",
      "lon_max       62467843 ChunkedArray environment\n",
      "rain (mm/day) 62467843 ChunkedArray environment\n",
      "model         62467843 ChunkedArray environment\n"
     ]
    }
   ],
   "source": [
    "%%R -i r_table\n",
    "r_table |> \n",
    "    count(model)|>\n",
    "    collect()|>\n",
    "    print(n = Inf)\n",
    "\n",
    "summary(r_table)"
   ]
  },
  {
   "cell_type": "markdown",
   "id": "9a982ea4",
   "metadata": {},
   "source": [
    "##### Plot Model Count:"
   ]
  },
  {
   "cell_type": "code",
   "execution_count": 50,
   "id": "33008c0b-489b-4103-8fca-849e9c6a1c69",
   "metadata": {},
   "outputs": [
    {
     "name": "stderr",
     "output_type": "stream",
     "text": [
      "R[write to console]: Warning:\n",
      "R[write to console]:  window functions not currently supported in Arrow; pulling data into R\n",
      "\n"
     ]
    },
    {
     "data": {
      "image/png": "[encoded data removed]"
     },
     "metadata": {},
     "output_type": "display_data"
    }
   ],
   "source": [
    "%%R -i r_table \n",
    "library(ggplot2)\n",
    "\n",
    "result <- r_table %>% \n",
    "    add_count(model) %>%\n",
    "    ggplot(aes(y = model)) +\n",
    "        geom_point(stat = 'count') +\n",
    "        labs(y = 'Model', x = 'Count') +\n",
    "        ggtitle('Model Count')\n",
    "print(result)"
   ]
  },
  {
   "cell_type": "markdown",
   "id": "94a903c2",
   "metadata": {},
   "source": [
    "##### The kernel crashed when we want to plot the combined data, so we need to aggregate the dataset in order to have plots for EDA. In the cell below we count the rainfall per year for two smallest models:"
   ]
  },
  {
   "cell_type": "code",
   "execution_count": 52,
   "id": "f5d6e14c-1693-4572-9ed7-cd49d4ee1f9a",
   "metadata": {},
   "outputs": [
    {
     "name": "stdout",
     "output_type": "stream",
     "text": [
      "`summarise()` has grouped output by 'year'. You can override using the\n",
      "`.groups` argument.\n"
     ]
    },
    {
     "data": {
      "image/png": "[encoded data removed]"
     },
     "metadata": {},
     "output_type": "display_data"
    }
   ],
   "source": [
    "%%R -i r_table\n",
    "\n",
    "df_pick_2 <- r_table |> filter (model %in% c(\"BCC-ESM1\", \"CanESM5\")) |>\n",
    "                rename(rain='rain (mm/day)')|> \n",
    "                select(time, rain, model) |> \n",
    "                collect()\n",
    "\n",
    "df_pick_2$time <- as.Date(df_pick_2$time)\n",
    "df_pick_2$year <- as.numeric(format(df_pick_2$time, \"%Y\"))\n",
    "\n",
    "df_year <- df_pick_2 |> \n",
    "    group_by(year, model) |> \n",
    "    summarise(rain=mean(rain))\n",
    "\n",
    "plot <- df_year |>\n",
    "ggplot(aes(x=year, y=rain, color=model)) +\n",
    "    geom_line() +\n",
    "    geom_point() +\n",
    "    facet_wrap(~model, ncol=1) +\n",
    "    xlab(\"Year\") +\n",
    "    ylab(\"Average Rainfall(mm/day)\") +\n",
    "    ggtitle(\"Average Rainfall per Year for BCC-ESM1 and CanESM5\")\n",
    "\n",
    "print(plot)"
   ]
  },
  {
   "cell_type": "markdown",
   "id": "30d9c591-38d5-4d42-960e-f8953010f736",
   "metadata": {},
   "source": [
    "## Challenges Discussion"
   ]
  },
  {
   "cell_type": "markdown",
   "id": "f7e26898-cd0a-4b00-82ce-181c8050ac64",
   "metadata": {},
   "source": [
    "Overall working with big data was challenging, when it comes to performing EDA or analyzing the features. Even though, the combining and loading times were bearable among our group mates (ranging from 4-10 minutes), with even bigger data it will be impossible to work locally. One of the key challenges was to perform EDA using altair. It crashed for all of our personal laptops. Plots on R were able to be achieved only after aggregation of the data. To conclude, starting from loading to working with the big data locally was a challenge for not only us, but for our computers as well. "
   ]
  }
 ],
 "metadata": {
  "kernelspec": {
   "display_name": "Python [conda env:525_2022]",
   "language": "python",
   "name": "conda-env-525_2022-py"
  },
  "language_info": {
   "codemirror_mode": {
    "name": "ipython",
    "version": 3
   },
   "file_extension": ".py",
   "mimetype": "text/x-python",
   "name": "python",
   "nbconvert_exporter": "python",
   "pygments_lexer": "ipython3",
   "version": "3.8.6"
  }
 },
 "nbformat": 4,
 "nbformat_minor": 5
}
